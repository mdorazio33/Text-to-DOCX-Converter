{
 "cells": [
  {
   "cell_type": "markdown",
   "id": "53af6f99",
   "metadata": {},
   "source": [
    "# Importing the Necessary Libraries\n",
    "\n",
    "The first step is to import the necessary libraries in order to use this extractor. This tool is used for extracting text from PDFs, Image-Only PDFs, and from a url leading to a webpage, so a variety of libraries are needed in order to for it to accommodate the aforementioned sources. Each of these packages must be installed prior to running this code in order for it to function properly."
   ]
  },
  {
   "cell_type": "code",
   "execution_count": 1,
   "id": "17906b0b",
   "metadata": {},
   "outputs": [],
   "source": [
    "import fitz  # PyMuPDF\n",
    "import spacy\n",
    "from docx import Document\n",
    "import easyocr\n",
    "import requests\n",
    "from bs4 import BeautifulSoup\n",
    "import numpy as np\n",
    "import warnings\n",
    "from bs4 import Tag\n",
    "from PIL import Image, ImageEnhance\n",
    "from io import BytesIO\n",
    "import cv2"
   ]
  },
  {
   "cell_type": "markdown",
   "id": "bfd312ac",
   "metadata": {},
   "source": [
    "# Disabling User Warnings\n",
    "The second step is to disable user warnings, though this is done out of personal preference. Nevertheless, there are benefits to keeping them enabled as well, so if wish to keep them active, simply skip this step."
   ]
  },
  {
   "cell_type": "code",
   "execution_count": 2,
   "id": "6389593e",
   "metadata": {},
   "outputs": [],
   "source": [
    "warnings.simplefilter(action='ignore', category=UserWarning)"
   ]
  },
  {
   "cell_type": "markdown",
   "id": "9a64234f",
   "metadata": {},
   "source": [
    "# Defining Our Functions\n",
    "The third step is to define our functions. Ideally, we want our code to execute the same way every time. Therefore, the best way to do this is to wrap bits of our code in such a way that it does the same thing each time it is needed/called upon. This, in essence, is what defining our functions allows us to do."
   ]
  },
  {
   "cell_type": "markdown",
   "id": "08cfa2d4",
   "metadata": {},
   "source": [
    "### Function that Checks Pages for Text-Only Content"
   ]
  },
  {
   "cell_type": "code",
   "execution_count": 3,
   "id": "6dd19175",
   "metadata": {},
   "outputs": [],
   "source": [
    "def is_text_only_page(page):\n",
    "    # Code to check if the page contains only text (no images)\n",
    "    return not page.get_images(full=True)"
   ]
  },
  {
   "cell_type": "markdown",
   "id": "03d5b4f6",
   "metadata": {},
   "source": [
    "### Function that Checks Pages for Image Content"
   ]
  },
  {
   "cell_type": "code",
   "execution_count": 4,
   "id": "7aa23d0e",
   "metadata": {},
   "outputs": [],
   "source": [
    "def is_image_page(page):\n",
    "    # Code to check if the page contains images\n",
    "    return bool(page.get_images(full=True))"
   ]
  },
  {
   "cell_type": "markdown",
   "id": "93d868c6",
   "metadata": {},
   "source": [
    "### Function that Converts PDF Content to Text"
   ]
  },
  {
   "cell_type": "code",
   "execution_count": 5,
   "id": "6ba67075",
   "metadata": {},
   "outputs": [],
   "source": [
    "def pdf_to_text(pdf_path):\n",
    "    doc = fitz.open(pdf_path)\n",
    "    text = \"\"\n",
    "    has_images = False\n",
    "\n",
    "    for page_num in range(doc.page_count):\n",
    "        page = doc[page_num]\n",
    "        text += page.get_text()\n",
    "\n",
    "        # Code to check if the page contains images\n",
    "        if not has_images and is_image_page(page):\n",
    "            has_images = True\n",
    "\n",
    "    doc.close()\n",
    "    return text, has_images"
   ]
  },
  {
   "cell_type": "markdown",
   "id": "8bcf5419",
   "metadata": {},
   "source": [
    "### Function that Extracts Images from the PDF if Detected"
   ]
  },
  {
   "cell_type": "code",
   "execution_count": 6,
   "id": "56c19f99",
   "metadata": {},
   "outputs": [],
   "source": [
    "def extract_images_from_pdf(pdf_path):\n",
    "    images = []\n",
    "    doc = fitz.open(pdf_path)\n",
    "\n",
    "    for page_num in range(doc.page_count):\n",
    "        page = doc[page_num]\n",
    "        images += page.get_images(full=True)\n",
    "\n",
    "    doc.close()\n",
    "    return images"
   ]
  },
  {
   "cell_type": "markdown",
   "id": "af050c71",
   "metadata": {},
   "source": [
    "### Function that Preprocesses Extracted Images Using OpenCV"
   ]
  },
  {
   "cell_type": "code",
   "execution_count": 7,
   "id": "eb5a8f44",
   "metadata": {},
   "outputs": [],
   "source": [
    "def preprocess_image_opencv(image, resize_factor=10, desired_dpi=300):\n",
    "    # Code to resize the image by a factor of 10\n",
    "    resized_image = cv2.resize(image, None, fx=resize_factor, fy=resize_factor, interpolation=cv2.INTER_CUBIC)\n",
    "\n",
    "    # Code to convert the image to grayscale\n",
    "    gray_image = cv2.cvtColor(resized_image, cv2.COLOR_BGR2GRAY)\n",
    "\n",
    "    # Code to apply a Gaussian blur to reduce noise\n",
    "    blurred_image = cv2.GaussianBlur(gray_image, (5, 5), 0)\n",
    "\n",
    "    # Code to apply adaptive thresholding to enhance contrast\n",
    "    _, threshold_image = cv2.threshold(blurred_image, 0, 255, cv2.THRESH_BINARY + cv2.THRESH_OTSU)\n",
    "\n",
    "    # Code to apply morphological transformations to further clean the image\n",
    "    kernel = np.ones((3, 3), np.uint8)\n",
    "    processed_image = cv2.morphologyEx(threshold_image, cv2.MORPH_CLOSE, kernel, iterations=2)\n",
    "\n",
    "    # Code to adjust the intensity of black pixels in the processed image\n",
    "    processed_image = cv2.subtract(255, processed_image)\n",
    "\n",
    "    return processed_image"
   ]
  },
  {
   "cell_type": "markdown",
   "id": "8af436d1",
   "metadata": {},
   "source": [
    "### Function that Extracts Text from these Images Using EasyOCR"
   ]
  },
  {
   "cell_type": "code",
   "execution_count": 8,
   "id": "c9408f8f",
   "metadata": {},
   "outputs": [],
   "source": [
    "def extract_text_from_image(image):\n",
    "    # Code used to load the preprocessed image\n",
    "    preprocessed_image = preprocess_image_opencv(image)\n",
    "\n",
    "    # Code used to enable easyocr for text extraction\n",
    "    reader = easyocr.Reader(['en'])\n",
    "    result = reader.readtext(preprocessed_image)\n",
    "\n",
    "    # Code used to extract text from the result\n",
    "    text = ' '.join([entry[1] for entry in result])\n",
    "    return text"
   ]
  },
  {
   "cell_type": "markdown",
   "id": "9b77068b",
   "metadata": {},
   "source": [
    "### Function that Extracts Text from Websites Via URL"
   ]
  },
  {
   "cell_type": "code",
   "execution_count": 9,
   "id": "e6611d10",
   "metadata": {},
   "outputs": [],
   "source": [
    "def extract_text_from_website(url):\n",
    "    # Code used to fetch HTML content from the website\n",
    "    response = requests.get(url)\n",
    "    html_content = response.text\n",
    "\n",
    "    # Code used to enable BeautifulSoup to parse HTML and extract text\n",
    "    soup = BeautifulSoup(html_content, 'html.parser')\n",
    "\n",
    "    def process_list_items(list_tag, level=0):\n",
    "        # Recursively process list items and maintain indentation\n",
    "        items = list_tag.find_all('li', recursive=False)\n",
    "        tags = []\n",
    "        for index, item in enumerate(items, start=1):\n",
    "            text = f\"{'  ' * level}{'• ' if list_tag.name == 'ul' else f'{index}. '}{item.get_text(strip=True)}\"\n",
    "            if item.find_all(['ul', 'ol']):\n",
    "                tags.extend(process_list_items(item, level + 1))\n",
    "            tag = Tag(name='text')\n",
    "            tag.string = text\n",
    "            tag.level = level\n",
    "            tags.append(tag)\n",
    "        return tags\n",
    "\n",
    "    # Code used to extract text from headers (h1, h2, etc.)\n",
    "    headers = soup.find_all(['h1', 'h2', 'h3', 'h4', 'h5', 'h6'])\n",
    "    header_tags = [Tag(name='text') for h in headers]\n",
    "    for i, h in enumerate(headers):\n",
    "        header_tags[i].string = h.get_text(strip=True)\n",
    "        header_tags[i].level = 0\n",
    "\n",
    "    # Code used to extract text from paragraphs\n",
    "    paragraphs = soup.find_all('p')\n",
    "    text_tags = [Tag(name='text') for p in paragraphs]\n",
    "    for i, p in enumerate(paragraphs):\n",
    "        text_tags[i].string = p.get_text(strip=True)\n",
    "        text_tags[i].level = 0\n",
    "\n",
    "    # Code used to extract text from lists\n",
    "    lists = soup.find_all(['ul', 'ol'])\n",
    "    for lst in lists:\n",
    "        text_tags.extend(process_list_items(lst))\n",
    "\n",
    "    # Code used to sort the tags based on their order of appearance on the website\n",
    "    all_tags = header_tags + text_tags\n",
    "    all_tags.sort(key=lambda x: x.previous_element.index(x) if x.previous_element else 0)\n",
    "\n",
    "    return '\\n'.join(tag.string for tag in all_tags)"
   ]
  },
  {
   "cell_type": "markdown",
   "id": "c85b0288",
   "metadata": {},
   "source": [
    "### Function that Processes Text Using spaCy"
   ]
  },
  {
   "cell_type": "code",
   "execution_count": 10,
   "id": "1d3e4aca",
   "metadata": {},
   "outputs": [],
   "source": [
    "def process_text_with_spacy(text):\n",
    "    # Code used to disable spaCy's named entity recognition (NER) component\n",
    "    nlp = spacy.load(\"en_core_web_sm\", disable=[\"ner\"])\n",
    "    doc = nlp(text)\n",
    "    return doc"
   ]
  },
  {
   "cell_type": "markdown",
   "id": "54169401",
   "metadata": {},
   "source": [
    "### Function that Extracts Text Processed Using spaCy"
   ]
  },
  {
   "cell_type": "code",
   "execution_count": 11,
   "id": "4cdf06b4",
   "metadata": {},
   "outputs": [],
   "source": [
    "def extract_text_spacy(doc):\n",
    "    return doc.text"
   ]
  },
  {
   "cell_type": "markdown",
   "id": "c9e319b4",
   "metadata": {},
   "source": [
    "### Function that Converts the Extracted Text to DOCX format"
   ]
  },
  {
   "cell_type": "code",
   "execution_count": 12,
   "id": "bc87e9c7",
   "metadata": {},
   "outputs": [],
   "source": [
    "def text_to_docx(text, output_path=\"output.docx\"):\n",
    "    doc = Document()\n",
    "\n",
    "    # Code used to split the text into lines\n",
    "    lines = text.split('\\n')\n",
    "\n",
    "    for line in lines:\n",
    "        # If statement used to skip empty lines\n",
    "        if line.strip():\n",
    "            # If statement used to check if the document already has content\n",
    "            if doc.paragraphs:\n",
    "                # Code to add a new paragraph for each additional line\n",
    "                doc.add_paragraph(line)\n",
    "            else:\n",
    "                # Code used to add the first line without an additional paragraph\n",
    "                doc.add_paragraph(line, style='BodyText')\n",
    "\n",
    "    doc.save(output_path)"
   ]
  },
  {
   "cell_type": "markdown",
   "id": "d0d35f16",
   "metadata": {},
   "source": [
    "# Text to DOCX Converter\n",
    "Finally, we have our code that allows for text from PDFs, Image-Only PDFs, and Websites to be extracted and sent to Word Document in DOCX format. In this Notebook, I will demonstrate how to extract text from a website URL simply by running this code. Everyday benefits of this are primarily for those who wish to easily capture all of the text from a webpage quickly.\n",
    "\n",
    "Using this converter is simple, as all one has to do is leave the \"pdf_path\" variable blank and add their website's url into the variable called \"website_url\". For this demonstration, I have selected the imagedemo.pdf file via the path it exists in on my local machine. Next, one simply must define the \"output_path\" as the location they want their outputted DOCX file to be in. In my case, I named it \"websitedemo.docx\".\n",
    "\n",
    "For this demonstration, I extracted text from an article on from NBA.com about NBA All-Star voting as of January 2024. After loading the url, I simply ran the code and the text from the webpage was extracted to a DOCX file."
   ]
  },
  {
   "cell_type": "code",
   "execution_count": 13,
   "id": "a290d103",
   "metadata": {},
   "outputs": [
    {
     "name": "stdout",
     "output_type": "stream",
     "text": [
      "Text extracted and saved to C:\\\\projects\\\\websitedemo.docx\n"
     ]
    }
   ],
   "source": [
    "if __name__ == \"__main__\":\n",
    "    pdf_path = ''  # Change this to your PDF file path. Keep it blank if extracting text only from a website.\n",
    "    website_url = 'https://www.nba.com/news/2024-all-star-voting-second-returns'  # Change this to the desired website URL in https://example.com format if you wish to extract text from websites\n",
    "\n",
    "    # Code used to extract text from PDF\n",
    "    extracted_text, has_images = pdf_to_text(pdf_path)\n",
    "\n",
    "    # Code used to extract text from website\n",
    "    if website_url:\n",
    "        website_text = extract_text_from_website(website_url)\n",
    "        extracted_text += \"\\n\" + website_text\n",
    "\n",
    "    if has_images:\n",
    "        # Code used to extract text from images\n",
    "        doc = fitz.open(pdf_path)\n",
    "        for page_num in range(doc.page_count):\n",
    "            page = doc[page_num]\n",
    "            if is_image_page(page):\n",
    "                image = page.get_pixmap()\n",
    "                image_text = extract_text_from_image(np.frombuffer(image.samples, dtype=np.uint8).reshape((image.h, image.w, image.n)))\n",
    "                extracted_text += \"\\n\" + image_text\n",
    "\n",
    "        doc.close()\n",
    "        \n",
    "\n",
    "    # Process the text with spaCy\n",
    "    spacy_doc = process_text_with_spacy(extracted_text)\n",
    "    final_extracted_text = extract_text_spacy(spacy_doc)\n",
    "\n",
    "    # Output to Word document\n",
    "    output_path = r'C:\\\\projects\\\\websitedemo.docx'  # Change this to your desired output path\n",
    "    text_to_docx(final_extracted_text, output_path)\n",
    "\n",
    "    print(f\"Text extracted and saved to {output_path}\")"
   ]
  },
  {
   "cell_type": "markdown",
   "id": "508f172b",
   "metadata": {},
   "source": [
    "# Reading the Extracted Text Without Opening the Document\n",
    "As a bonus, I wanted to write some code that may be used to print the extracted text for exemplary purposes. Good reasons to do this may be that you simply want to examine the contents of the extracted DOCX file without the need to actually open it. This is useful if you happen to be running this on a machine that does not have Microsoft Word installed. By that logic, you could use this code to validate its contents and then email the DOCX file to a machine that has the necessary software to edit it. For a scenario like this, I recommend using Google Docs as DOCX files can be uploaded there if needed."
   ]
  },
  {
   "cell_type": "code",
   "execution_count": 14,
   "id": "dae52237",
   "metadata": {},
   "outputs": [
    {
     "name": "stdout",
     "output_type": "stream",
     "text": [
      "Extracted Text: \n",
      "2024 All-Star\n",
      "Giannis Antetokounmpo, LeBron James lead in 2nd fan returns of NBA All-Star Voting presented by AT&T\n",
      "Related\n",
      "LeBron, Giannis lead 1st All-Star voting returns\n",
      "Trending Topics: Picking East All-Star starters\n",
      "Trending Topics: Picking West All-Star starters\n",
      "NBA All-Star 2024 Guide\n",
      "Related\n",
      "LeBron, Giannis lead 1st All-Star voting returns\n",
      "Trending Topics: Picking East All-Star starters\n",
      "Trending Topics: Picking West All-Star starters\n",
      "NBA All-Star 2024 Guide\n",
      "Latest\n",
      "NBA DraftKings & FanDuel DFS Primer: Jan 11\n",
      "Grizzlies' Smart (finger) out at least 6 weeks\n",
      "Why LeBron, KD and Steph are at a crossroads\n",
      "5 new methods helping Celtics dominate\n",
      "Holiday ready for emotional return to Milwaukee\n",
      "Starting 5: Wemby’s historic first triple-double\n",
      "Giannis Antetokounmpo leads the way in overall voting with more than 3.4 million votes, while LeBron James has nearly 3.1 million votes.\n",
      "Official release\n",
      "LeBron James has totaled 3,096,031 votes in the second fan returns of NBA All-Star Voting presented by AT&T.\n",
      "•NBA All-Star 2024: Vote here\n",
      "Los Angeles Lakers forward LeBron James and Milwaukee Bucks forward Giannis Antetokounmpo continue to lead the Western and Eastern Conferences, respectively, in the second fan returns ofNBA All-Star Voting presented by AT&T.\n",
      "James (West frontcourt), Antetokounmpo (East frontcourt), the Dallas Mavericks’ Luka Dončić (West guard) and the Indiana Pacers’ Tyrese Haliburton (East guard) remain the leaders at their respective position groups.  The Atlanta Hawks’ Trae Young has moved into second place among East guards.\n",
      "Fans account for 50% of the vote to determine the starters for the 2024 NBA All-Star Game. Current NBA players and a media panel account for 25% each.\n",
      "Below are the top 10 vote-getters by position group in the second fan returns.\n",
      "LeBron James and Giannis Antetokounmpo lead their respective conferences in the second fan returns of#NBAAllStarVoting presented by AT&T.\n",
      "Fans account for 50% of the vote to decide All-Star starters. NBA players and a media panel account for 25% each.\n",
      "Next fan update: 1/18.pic.twitter.com/0K23OtQRmY\n",
      "— NBA Communications (@NBAPR)January 11, 2024\n",
      "\n",
      "Tomorrow (Friday, Jan. 12) marks the next “3-for-1 Day,” when each fan vote will count three times.  The next fan voting update will be shared on Thursday, Jan. 18, and voting will conclude on Saturday, Jan. 20 at 11:59 p.m. ET.  TNT will reveal the NBA All-Star Game starters on Thursday, Jan. 25 at 7 p.m. ET.\n",
      "NBA All-Star Voting presented by AT&T\n",
      "NBA All-Star Voting presented by AT&T, the Official 5G Wireless Network of the NBA, tipped off on Tuesday, Dec. 19 at 7 a.m. ET and concludes on Saturday, Jan. 20 at 11:59 p.m. ET, giving fans the opportunity to vote for the 2024 NBA All-Star Game starters via the NBA App and NBA.com.\n",
      "The73rd NBA All-Star Gamewill take place on Sunday, Feb. 18 at 8 p.m. ET at Gainbridge Fieldhouse in Indianapolis, airing on TNT in the United States and reaching fans in more than 200 countries and territories in more than 50 languages.\n",
      "Fans can vote on the NBA App or NBA.com withNBA ID, the league’s global membership program. Voters in the United States will be automatically entered into the NBA ID All-Star Voting Sweepstakes presented by AT&T for the opportunity to win a trip to Indianapolis for NBA All-Star 2024. Additionally, fans with an NBA ID traveling to Indianapolis for NBA All-Star 2024 can access in-venue seat upgrades, member-only prizing and more. NBA ID, which offers fans benefits and rewards from the league and its partners, is free to joinhere.\n",
      "Throughout the voting period, fans with NBA ID may submit one full ballot each day via the NBA App and NBA.com. One full ballot comprises three frontcourt players and two guards from both the Eastern Conference and the Western Conference. All current NBA players will be available for selection.\n",
      "Fans will have six days where their vote will count three times on special “3-for-1 Days,” with the first day taking place on Christmas Day (Monday, Dec. 25) from 12:01 a.m. ET – 11:59 p.m. ET. Additional 3-for-1 Days will be available on Monday, Jan. 1, Friday, Jan. 5, Friday, Jan. 12, Monday, Jan. 15 and Friday, Jan. 19 from 12:01 a.m. ET – 11:59 p.m. ET.\n",
      "NBA players and media will continue to join fans in selecting the NBA All-Star Game starters. Fans will account for 50 percent of the vote, while all current players and a media panel will account for 25 percent each. Players and media will be able to complete one ballot.\n",
      "Fan voting updates will be shared on the first three Thursdays in January (Jan. 4, 11 and 18). TNT will reveal the NBA All-Star Game starters on Thursday, Jan. 25 during TNT NBA Tip-Off presented by CarMax. TNT will also announce the reserves, as selected by NBA head coaches, on Thursday, Feb. 1 during TNT NBA Tip-Off.\n",
      "After all votes are tallied, players will be ranked in each conference by position (guard and frontcourt) within each of the three voting groups – fan votes, player votes and media votes. Each player’s score will be calculated by averaging his weighted rank from the fan votes, the player votes and the media votes. The two guards and three frontcourt players with the best score in each conference will be named NBA All-Star Game starters. Fan voting will serve as the tiebreaker for players in a position group with the same score.\n",
      "Joining LeBron James (West frontcourt) and Giannis Antetokounmpo (East frontcourt) as top vote-getters in their position groups are Luka Doncic (West guard) and Tyrese Haliburton (East guard).\n",
      "Our writers predict which 5 players should be East All-Star starters at NBA All-Star 2024.\n",
      "Our writers predict which 5 players should be West All-Star starters at NBA All-Star 2024.\n",
      "Frequently asked questions, event rules and viewer's guide to the 2024 NBA All-Star Weekend in Indianapolis.\n",
      "Joining LeBron James (West frontcourt) and Giannis Antetokounmpo (East frontcourt) as top vote-getters in their position groups are Luka Doncic (West guard) and Tyrese Haliburton (East guard).\n",
      "Our writers predict which 5 players should be East All-Star starters at NBA All-Star 2024.\n",
      "Our writers predict which 5 players should be West All-Star starters at NBA All-Star 2024.\n",
      "Frequently asked questions, event rules and viewer's guide to the 2024 NBA All-Star Weekend in Indianapolis.\n",
      "FantasyPros breaks down the top DraftKings and FanDuel daily fantasy players for the NBA's 5-game slate on Thursday.\n",
      "Memphis' defensive-minded guard will be out as he recovers from a right finger injury suffered on Jan. 9 vs. Dallas.\n",
      "The All-Star trio and their respective teams have faced atypical challenges during an up-and-down 2023-24 season.\n",
      "Breaking down how Boston has adjusted its style and the impact the changes are having.\n",
      "A pivotal part of the Bucks' 2021 title team, Boston's Jrue Holiday is looking forward to seeing his 'brothers' again.\n",
      "Victor Wembanyama notches his first triple-double, Boston wins the clash of conference leaders and Tony Parker stops by to chat.\n",
      "If you are having difficulty accessing any content on this website, please visit ourAccessibility page.\n",
      "NBA.com is part of Warner Media, LLC’s Turner Sports & Entertainment Digital Network\n",
      "• GamesHomeTickets\n",
      "• Schedule2023-24 Season ScheduleLeague Pass ScheduleLivestream ScheduleNBA CrunchtimeKey DatesTickets\n",
      "• WatchFeaturedNBA TV\n",
      "• NewsHomeTop StoriesPower RankingsTransactionsMLK DayAll-StarDraftIn-Season TournamentFeaturesHistoryWriter ArchiveMore\n",
      "• StatsStats HomePlayersTeamsLeadersStats 101Cume StatsLineups ToolMedia Central Game StatsDraftQuick LinksContact Us\n",
      "• Standings\n",
      "• TeamsAtlanticBoston CelticsBrooklyn NetsNew York KnicksPhiladelphia 76ersToronto RaptorsCentralChicago BullsCleveland CavaliersDetroit PistonsIndiana PacersMilwaukee BucksSoutheastAtlanta HawksCharlotte HornetsMiami HeatOrlando MagicWashington WizardsNorthwestDenver NuggetsMinnesota TimberwolvesOklahoma City ThunderPortland Trail BlazersUtah JazzPacificGolden State WarriorsLA ClippersLos Angeles LakersPhoenix SunsSacramento KingsSouthwestDallas MavericksHouston RocketsMemphis GrizzliesNew Orleans PelicansSan Antonio Spurs\n",
      "• PlayersPlayers HomePlayer StatsStarting LineupsFree Agent TrackerTransactions\n",
      "• NBA Play\n",
      "• All-StarVote Now!All-Star NewsSchedule of Events\n",
      "• Future Starts Now\n",
      "• NBA Fitness\n",
      "• FantasyFantasy HomeFantasy NewsNBA Pick'EmPlay Sorare NBAYahoo Fantasy SportsFanDuel DFSDraftKings DFSNBABet HomeAuthorized Gaming Operators\n",
      "• \n",
      "• League Pass\n",
      "• StoreNBA StoreJerseysMenWomenKidsCustom ShopHardwood ClassicsHatsFootwearAuctionsNBA Game WornNYC StoreNBA Photo Store\n",
      "• TicketsNBATickets.comOfficial Tickets by Ticketmaster\n",
      "• AffiliatesNBA G LeagueWNBANBA 2K LeagueBasketball Africa League\n",
      "• Home\n",
      "• Tickets\n",
      "• 2023-24 Season Schedule\n",
      "• League Pass Schedule\n",
      "• Livestream Schedule\n",
      "• NBA Crunchtime\n",
      "• Key Dates\n",
      "• Tickets\n",
      "• Featured\n",
      "• NBA TV\n",
      "• Home\n",
      "• Top Stories\n",
      "• Power Rankings\n",
      "• Transactions\n",
      "• MLK Day\n",
      "• All-Star\n",
      "• Draft\n",
      "• In-Season Tournament\n",
      "• Features\n",
      "• History\n",
      "• Writer Archive\n",
      "• More\n",
      "• Stats Home\n",
      "• Players\n",
      "• Teams\n",
      "• Leaders\n",
      "• Stats 101\n",
      "• Cume Stats\n",
      "• Lineups Tool\n",
      "• Media Central Game Stats\n",
      "• Draft\n",
      "• Quick Links\n",
      "• Contact Us\n",
      "• Players Home\n",
      "• Player Stats\n",
      "• Starting Lineups\n",
      "• Free Agent Tracker\n",
      "• Transactions\n",
      "• Vote Now!\n",
      "• All-Star News\n",
      "• Schedule of Events\n",
      "• Fantasy Home\n",
      "• Fantasy News\n",
      "• NBA Pick'Em\n",
      "• Play Sorare NBA\n",
      "• Yahoo Fantasy Sports\n",
      "• FanDuel DFS\n",
      "• DraftKings DFS\n",
      "• NBABet Home\n",
      "• Authorized Gaming Operators\n",
      "• NBA Store\n",
      "• Jerseys\n",
      "• Men\n",
      "• Women\n",
      "• Kids\n",
      "• Custom Shop\n",
      "• Hardwood Classics\n",
      "• Hats\n",
      "• Footwear\n",
      "• Auctions\n",
      "• NBA Game Worn\n",
      "• NYC Store\n",
      "• NBA Photo Store\n",
      "• NBATickets.com\n",
      "• Official Tickets by Ticketmaster\n",
      "• NBA G League\n",
      "• WNBA\n",
      "• NBA 2K League\n",
      "• Basketball Africa League\n",
      "• Sign InSign in with NBA IDHide ScoresHelp\n",
      "• Sign in with NBA ID\n",
      "• Hide Scores\n",
      "• Help\n",
      "• Games\n",
      "• Schedule\n",
      "• Watch\n",
      "• News\n",
      "• Stats\n",
      "• Standings\n",
      "• Teams\n",
      "• Players\n",
      "• NBA Play\n",
      "• All-Star\n",
      "• Future Starts Now\n",
      "• NBA Fitness\n",
      "• Fantasy\n",
      "• League Pass\n",
      "• Store\n",
      "• Tickets\n",
      "• Affiliates\n",
      "• Featured\n",
      "• NBA TV\n",
      "• 2024 All-Star\n",
      "• Latest\n",
      "• Vote!\n",
      "• Schedule\n",
      "• Ticket Info\n",
      "• FAQ\n",
      "• LeBron, Giannis lead 1st All-Star voting returnsJoining LeBron James (West frontcourt) and Giannis Antetokounmpo (East frontcourt) as top vote-getters in their position groups are Luka Doncic (West guard) and Tyrese Haliburton (East guard).\n",
      "• Trending Topics: Picking East All-Star startersOur writers predict which 5 players should be East All-Star starters at NBA All-Star 2024.\n",
      "• Trending Topics: Picking West All-Star startersOur writers predict which 5 players should be West All-Star starters at NBA All-Star 2024.\n",
      "• NBA All-Star 2024 GuideFrequently asked questions, event rules and viewer's guide to the 2024 NBA All-Star Weekend in Indianapolis.\n",
      "• LeBron, Giannis lead 1st All-Star voting returnsJoining LeBron James (West frontcourt) and Giannis Antetokounmpo (East frontcourt) as top vote-getters in their position groups are Luka Doncic (West guard) and Tyrese Haliburton (East guard).January 4, 2024\n",
      "• Trending Topics: Picking East All-Star startersOur writers predict which 5 players should be East All-Star starters at NBA All-Star 2024.January 5, 2024\n",
      "• Trending Topics: Picking West All-Star startersOur writers predict which 5 players should be West All-Star starters at NBA All-Star 2024.January 5, 2024\n",
      "• NBA All-Star 2024 GuideFrequently asked questions, event rules and viewer's guide to the 2024 NBA All-Star Weekend in Indianapolis.December 27, 2023\n",
      "• NBA DraftKings & FanDuel DFS Primer: Jan 11FantasyPros breaks down the top DraftKings and FanDuel daily fantasy players for the NBA's 5-game slate on Thursday.12 minutes ago\n",
      "• Grizzlies' Smart (finger) out at least 6 weeksMemphis' defensive-minded guard will be out as he recovers from a right finger injury suffered on Jan. 9 vs. Dallas.16 minutes ago\n",
      "• Why LeBron, KD and Steph are at a crossroadsThe All-Star trio and their respective teams have faced atypical challenges during an up-and-down 2023-24 season.2 hours ago\n",
      "• 5 new methods helping Celtics dominateBreaking down how Boston has adjusted its style and the impact the changes are having.2 hours ago\n",
      "• Holiday ready for emotional return to MilwaukeeA pivotal part of the Bucks' 2021 title team, Boston's Jrue Holiday is looking forward to seeing his 'brothers' again.2 hours ago\n",
      "• Starting 5: Wemby’s historic first triple-doubleVictor Wembanyama notches his first triple-double, Boston wins the clash of conference leaders and Tony Parker stops by to chat.6 hours ago\n",
      "• NBA ID\n",
      "• NBA Official\n",
      "• NBA Careers\n",
      "• NBA Fan Code of Conduct\n",
      "• NBA Cares\n",
      "• Jr. NBA\n",
      "• NBA Foundation\n",
      "• Social Justice Coalition\n",
      "• NBA Communications\n",
      "• Lockervision\n",
      "• NBA Transactions\n",
      "• Global Stores\n",
      "• NYC Store\n",
      "• NBA Auctions\n",
      "• NBA Photostore\n",
      "• League Pass\n",
      "• Customer Support\n",
      "• Privacy Policy\n",
      "• EEA/UK Privacy Statement\n",
      "• Brazil Privacy Statement\n",
      "• Colorado Consumer Privacy Statement\n",
      "• California Consumer Privacy Statement\n",
      "• Terms of Use\n",
      "• Cookie Policy\n",
      "• Accessibility and Closed Captions\n",
      "• Customer Support\n",
      "• Manage Preferences\n"
     ]
    }
   ],
   "source": [
    "print(\"Extracted Text:\", extracted_text)"
   ]
  }
 ],
 "metadata": {
  "kernelspec": {
   "display_name": "Python 3 (ipykernel)",
   "language": "python",
   "name": "python3"
  },
  "language_info": {
   "codemirror_mode": {
    "name": "ipython",
    "version": 3
   },
   "file_extension": ".py",
   "mimetype": "text/x-python",
   "name": "python",
   "nbconvert_exporter": "python",
   "pygments_lexer": "ipython3",
   "version": "3.10.7"
  }
 },
 "nbformat": 4,
 "nbformat_minor": 5
}
